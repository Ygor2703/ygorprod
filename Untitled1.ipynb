{
  "nbformat": 4,
  "nbformat_minor": 0,
  "metadata": {
    "colab": {
      "provenance": [],
      "authorship_tag": "ABX9TyM1iwTZtVu/Ur0MDjHFl8fa",
      "include_colab_link": true
    },
    "kernelspec": {
      "name": "python3",
      "display_name": "Python 3"
    },
    "language_info": {
      "name": "python"
    }
  },
  "cells": [
    {
      "cell_type": "markdown",
      "metadata": {
        "id": "view-in-github",
        "colab_type": "text"
      },
      "source": [
        "<a href=\"https://colab.research.google.com/github/Ygor2703/ygorprod/blob/main/Untitled1.ipynb\" target=\"_parent\"><img src=\"https://colab.research.google.com/assets/colab-badge.svg\" alt=\"Open In Colab\"/></a>"
      ]
    },
    {
      "cell_type": "markdown",
      "source": [
        "formula graus para radianos\n"
      ],
      "metadata": {
        "id": "Wh4JSspo61Ft"
      }
    },
    {
      "cell_type": "markdown",
      "source": [
        "formula de radianos para graus"
      ],
      "metadata": {
        "id": "_lqD8_BW-nEx"
      }
    },
    {
      "cell_type": "code",
      "source": [
        "numero = int(input(\"Digite um numero inteiro: \"))\n",
        "if numero % 2 == 0:\n",
        "    print(f\"o numero {numero} e par.\")\n",
        "else:\n",
        "    print(f\"o numero {numero} e impar.\")\n",
        ""
      ],
      "metadata": {
        "colab": {
          "base_uri": "https://localhost:8080/"
        },
        "id": "D3jC9fCKP3Ww",
        "outputId": "91bbd19f-1103-4e68-fda5-c43a8fbe89c8"
      },
      "execution_count": 1,
      "outputs": [
        {
          "output_type": "stream",
          "name": "stdout",
          "text": [
            "Digite um numero inteiro: 38\n",
            "o numero 38 e par.\n"
          ]
        }
      ]
    },
    {
      "cell_type": "markdown",
      "source": [],
      "metadata": {
        "id": "yiGkTOQy-mPV"
      }
    }
  ]
}