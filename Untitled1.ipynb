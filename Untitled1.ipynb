{
  "nbformat": 4,
  "nbformat_minor": 0,
  "metadata": {
    "colab": {
      "provenance": [],
      "authorship_tag": "ABX9TyPUg8HotguE/D+YmPMuGOKV",
      "include_colab_link": true
    },
    "kernelspec": {
      "name": "python3",
      "display_name": "Python 3"
    },
    "language_info": {
      "name": "python"
    }
  },
  "cells": [
    {
      "cell_type": "markdown",
      "metadata": {
        "id": "view-in-github",
        "colab_type": "text"
      },
      "source": [
        "<a href=\"https://colab.research.google.com/github/Ygor2703/ygorprod/blob/main/Untitled1.ipynb\" target=\"_parent\"><img src=\"https://colab.research.google.com/assets/colab-badge.svg\" alt=\"Open In Colab\"/></a>"
      ]
    },
    {
      "cell_type": "markdown",
      "source": [],
      "metadata": {
        "id": "yiGkTOQy-mPV"
      }
    },
    {
      "cell_type": "code",
      "source": [
        "import math\n",
        "numero = float(input(\"digite um número: \"))\n",
        "if numero >= 0:\n",
        "    raiz_cuadrada = math.sqrt(numero)\n",
        "    print(f\"A raiz quadrada de {numero} é {raiz_cuadrada:.2f}\")\n",
        "else:\n",
        "    print(\"nao existe raiz real para este numero!\")\n"
      ],
      "metadata": {
        "colab": {
          "base_uri": "https://localhost:8080/"
        },
        "id": "QvnYws8BT39c",
        "outputId": "f0ce1afe-c2be-4c4e-d445-64aa1250d801"
      },
      "execution_count": 9,
      "outputs": [
        {
          "output_type": "stream",
          "name": "stdout",
          "text": [
            "digite um número: 81\n",
            "A raiz quadrada de 81.0 é 9.00\n"
          ]
        }
      ]
    }
  ]
}