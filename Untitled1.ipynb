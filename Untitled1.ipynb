{
  "nbformat": 4,
  "nbformat_minor": 0,
  "metadata": {
    "colab": {
      "provenance": [],
      "authorship_tag": "ABX9TyMZLRrVvnB3wIN6c8dblFsf",
      "include_colab_link": true
    },
    "kernelspec": {
      "name": "python3",
      "display_name": "Python 3"
    },
    "language_info": {
      "name": "python"
    }
  },
  "cells": [
    {
      "cell_type": "markdown",
      "metadata": {
        "id": "view-in-github",
        "colab_type": "text"
      },
      "source": [
        "<a href=\"https://colab.research.google.com/github/Ygor2703/ygorprod/blob/main/Untitled1.ipynb\" target=\"_parent\"><img src=\"https://colab.research.google.com/assets/colab-badge.svg\" alt=\"Open In Colab\"/></a>"
      ]
    },
    {
      "cell_type": "markdown",
      "source": [],
      "metadata": {
        "id": "yiGkTOQy-mPV"
      }
    },
    {
      "cell_type": "markdown",
      "source": [],
      "metadata": {
        "id": "5ajpjO80Yowe"
      }
    },
    {
      "cell_type": "code",
      "source": [
        "# Início do programa para calcular a média ponderada\n",
        "\n",
        "# Ler as notas a e b do aluno\n",
        "a = float(input(\"Digite a nota a (peso 2): \"))\n",
        "b = float(input(\"Digite a nota b (peso 3): \"))\n",
        "\n",
        "# Calcular a média ponderada\n",
        "peso_a = 2\n",
        "peso_b = 3\n",
        "media_ponderada = (a * peso_a + b * peso_b) / (peso_a + peso_b)\n",
        "\n",
        "# Verificar se o aluno foi aprovado\n",
        "if media_ponderada >= 5:\n",
        "    status = \"Aprovado\"\n",
        "else:\n",
        "    status = \"Reprovado\"\n",
        "\n",
        "# Exibir a média e o status\n",
        "print(f\"Média ponderada: {media_ponderada:.2f} - Status: {status}\")\n",
        "\n",
        "# Fim do programa\n",
        "\n"
      ],
      "metadata": {
        "id": "YrceXxHpbgXJ",
        "colab": {
          "base_uri": "https://localhost:8080/"
        },
        "outputId": "0266395f-ee0a-4fbd-d430-f59be7468ff1"
      },
      "execution_count": 11,
      "outputs": [
        {
          "output_type": "stream",
          "name": "stdout",
          "text": [
            "Digite a nota a (peso 2): 5\n",
            "Digite a nota b (peso 3): 8\n",
            "Média ponderada: 6.80 - Status: Aprovado\n"
          ]
        }
      ]
    }
  ]
}