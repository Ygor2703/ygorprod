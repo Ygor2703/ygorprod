{
  "nbformat": 4,
  "nbformat_minor": 0,
  "metadata": {
    "colab": {
      "provenance": [],
      "authorship_tag": "ABX9TyMuW1OIrxkRx0sIHU85TVpp",
      "include_colab_link": true
    },
    "kernelspec": {
      "name": "python3",
      "display_name": "Python 3"
    },
    "language_info": {
      "name": "python"
    }
  },
  "cells": [
    {
      "cell_type": "markdown",
      "metadata": {
        "id": "view-in-github",
        "colab_type": "text"
      },
      "source": [
        "<a href=\"https://colab.research.google.com/github/Ygor2703/ygorprod/blob/main/Untitled1.ipynb\" target=\"_parent\"><img src=\"https://colab.research.google.com/assets/colab-badge.svg\" alt=\"Open In Colab\"/></a>"
      ]
    },
    {
      "cell_type": "markdown",
      "source": [],
      "metadata": {
        "id": "yiGkTOQy-mPV"
      }
    },
    {
      "cell_type": "markdown",
      "source": [],
      "metadata": {
        "id": "5ajpjO80Yowe"
      }
    },
    {
      "cell_type": "code",
      "source": [
        "#solicita ao usuario que insira o comprimento e a largura da camiseta\n",
        "comprimento = float(input(\"Digite o comprimento da camiseta em centimetros: \"))\n",
        "largura = float(input(\"Digite a largura da camiseta em centimetros: \"))\n",
        "#determine o tamanho da camiseta com base no comprimento e largura\n",
        "if comprimento <= 65 and largura <= 48:\n",
        "    tamanho = \"P\"\n",
        "elif comprimento <= 70 and largura <= 51:\n",
        "    tamanho = \"M\"\n",
        "elif comprimento <= 75 and largura <= 54:\n",
        "    tamanho = \"G\"\n",
        "elif comprimento <= 80 and largura <= 57:\n",
        "    tamanho = \"GG\"\n",
        "#exibe o tamaho da camiseta\n",
        "print(f\"O tamanho da camiseta é {tamanho}.\")\n"
      ],
      "metadata": {
        "colab": {
          "base_uri": "https://localhost:8080/"
        },
        "id": "Ovek3yA_YsXf",
        "outputId": "6725f106-ce77-4400-ed83-e2dc07c0c262"
      },
      "execution_count": 17,
      "outputs": [
        {
          "output_type": "stream",
          "name": "stdout",
          "text": [
            "Digite o comprimento da camiseta em centimetros: 77\n",
            "Digite a largura da camiseta em centimetros: 55\n",
            "O tamanho da camiseta é GG.\n"
          ]
        }
      ]
    }
  ]
}