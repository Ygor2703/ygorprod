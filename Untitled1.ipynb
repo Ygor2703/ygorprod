{
  "nbformat": 4,
  "nbformat_minor": 0,
  "metadata": {
    "colab": {
      "provenance": [],
      "authorship_tag": "ABX9TyMcJS9leupiLFZ59jU1gh95",
      "include_colab_link": true
    },
    "kernelspec": {
      "name": "python3",
      "display_name": "Python 3"
    },
    "language_info": {
      "name": "python"
    }
  },
  "cells": [
    {
      "cell_type": "markdown",
      "metadata": {
        "id": "view-in-github",
        "colab_type": "text"
      },
      "source": [
        "<a href=\"https://colab.research.google.com/github/Ygor2703/ygorprod/blob/main/Untitled1.ipynb\" target=\"_parent\"><img src=\"https://colab.research.google.com/assets/colab-badge.svg\" alt=\"Open In Colab\"/></a>"
      ]
    },
    {
      "cell_type": "code",
      "source": [
        "\n"
      ],
      "metadata": {
        "colab": {
          "base_uri": "https://localhost:8080/"
        },
        "id": "jkz1273JGpCS",
        "outputId": "6fe2afeb-666d-4024-9927-ae55920ed899"
      },
      "execution_count": null,
      "outputs": [
        {
          "name": "stdout",
          "output_type": "stream",
          "text": [
            "Digite valor: 22\n"
          ]
        }
      ]
    },
    {
      "cell_type": "markdown",
      "source": [
        "formula gruas para radianos\n"
      ],
      "metadata": {
        "id": "Wh4JSspo61Ft"
      }
    },
    {
      "cell_type": "code",
      "execution_count": 1,
      "metadata": {
        "id": "uD2nDBz8GAXw",
        "colab": {
          "base_uri": "https://localhost:8080/"
        },
        "outputId": "57aca88e-62ac-4fb3-adbe-8b77711ffb11"
      },
      "outputs": [
        {
          "output_type": "stream",
          "name": "stdout",
          "text": [
            "Digite o angulo em graus: 30\n",
            "o angulo de 30.0 graus e igual a 0.523599 radianos.\n"
          ]
        }
      ],
      "source": [
        "import math\n",
        "#solicita ao usuario que insira o angulo em graus\n",
        "graus = float(input(\"Digite o angulo em graus: \"))\n",
        "#converte o angulo de graus para radianos usando a formula r = g * (3.14/180)\n",
        "radianos = graus * (math.pi / 180)\n",
        "#exibe o resultado\n",
        "print(f\"o angulo de {graus} graus e igual a {radianos:-4f} radianos.\")"
      ]
    }
  ]
}