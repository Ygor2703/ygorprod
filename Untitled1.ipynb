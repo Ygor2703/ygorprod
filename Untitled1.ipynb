{
  "nbformat": 4,
  "nbformat_minor": 0,
  "metadata": {
    "colab": {
      "provenance": [],
      "authorship_tag": "ABX9TyMxpUkYGISOQ3xS5pQCcQtl",
      "include_colab_link": true
    },
    "kernelspec": {
      "name": "python3",
      "display_name": "Python 3"
    },
    "language_info": {
      "name": "python"
    }
  },
  "cells": [
    {
      "cell_type": "markdown",
      "metadata": {
        "id": "view-in-github",
        "colab_type": "text"
      },
      "source": [
        "<a href=\"https://colab.research.google.com/github/Ygor2703/ygorprod/blob/main/Untitled1.ipynb\" target=\"_parent\"><img src=\"https://colab.research.google.com/assets/colab-badge.svg\" alt=\"Open In Colab\"/></a>"
      ]
    },
    {
      "cell_type": "markdown",
      "source": [],
      "metadata": {
        "id": "yiGkTOQy-mPV"
      }
    },
    {
      "cell_type": "markdown",
      "source": [],
      "metadata": {
        "id": "5ajpjO80Yowe"
      }
    },
    {
      "cell_type": "code",
      "source": [
        "# Início do programa para encontrar o menor valor\n",
        "\n",
        "# Ler os três valores a, b e c\n",
        "a = float(input(\"Digite o valor a: \"))\n",
        "b = float(input(\"Digite o valor b: \"))\n",
        "c = float(input(\"Digite o valor c: \"))\n",
        "\n",
        "# Comparar os valores para encontrar o menor\n",
        "if a <= b and a <= c:\n",
        "    menor = a\n",
        "elif b <= a and b <= c:\n",
        "    menor = b\n",
        "else:\n",
        "    menor = c\n",
        "\n",
        "# Exibir o menor valor\n",
        "print(f\"O menor valor é: {menor}\")\n",
        "\n",
        "\n"
      ],
      "metadata": {
        "id": "WNu7tseZYocd"
      },
      "execution_count": null,
      "outputs": []
    }
  ]
}