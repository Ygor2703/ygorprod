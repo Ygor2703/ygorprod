{
  "nbformat": 4,
  "nbformat_minor": 0,
  "metadata": {
    "colab": {
      "provenance": [],
      "authorship_tag": "ABX9TyNFO39jeBVIbh7fX/fWxK84",
      "include_colab_link": true
    },
    "kernelspec": {
      "name": "python3",
      "display_name": "Python 3"
    },
    "language_info": {
      "name": "python"
    }
  },
  "cells": [
    {
      "cell_type": "markdown",
      "metadata": {
        "id": "view-in-github",
        "colab_type": "text"
      },
      "source": [
        "<a href=\"https://colab.research.google.com/github/Ygor2703/ygorprod/blob/main/Untitled1.ipynb\" target=\"_parent\"><img src=\"https://colab.research.google.com/assets/colab-badge.svg\" alt=\"Open In Colab\"/></a>"
      ]
    },
    {
      "cell_type": "code",
      "source": [
        "def areatriangulo(b, h):\n",
        "    return (b * h) / 2\n"
      ],
      "metadata": {
        "id": "RUiuv1lXxOjm"
      },
      "execution_count": 18,
      "outputs": []
    },
    {
      "cell_type": "code",
      "source": [
        "b = float (input(\"digite valor da base: \"))\n",
        "h = float (input(\"digite valor da altura: \"))\n",
        "a = areatriangulo(b, h)\n",
        "print(\"a area do triangulo é4: \", a)"
      ],
      "metadata": {
        "colab": {
          "base_uri": "https://localhost:8080/"
        },
        "id": "c9n8AJtMxnV8",
        "outputId": "cac93000-c12b-4b8a-b9d3-fbbc6ce2dfe9"
      },
      "execution_count": 19,
      "outputs": [
        {
          "output_type": "stream",
          "name": "stdout",
          "text": [
            "digite valor da base: 44\n",
            "digite valor da altura: 41\n",
            "a area do triangulo é:  902.0\n"
          ]
        }
      ]
    },
    {
      "cell_type": "code",
      "source": [
        "from minhasfuncoes import areatriangulo"
      ],
      "metadata": {
        "id": "pKTJNwh-y6YB"
      },
      "execution_count": 23,
      "outputs": []
    },
    {
      "cell_type": "code",
      "source": [
        "b = float (input(\"digite valor da base: \"))\n",
        "h = float (input(\"digite valor da altura: \"))\n",
        "a = areatriangulo(b, h)\n",
        "print(\"a area do triangulo é4: \", a)"
      ],
      "metadata": {
        "colab": {
          "base_uri": "https://localhost:8080/"
        },
        "id": "ESMeMm5fzRd8",
        "outputId": "ea9b9271-0281-478e-d246-32da0e162805"
      },
      "execution_count": 22,
      "outputs": [
        {
          "output_type": "stream",
          "name": "stdout",
          "text": [
            "digite valor da base: 4\n",
            "digite valor da altura: 8\n",
            "a area do triangulo é4:  16.0\n"
          ]
        }
      ]
    }
  ]
}